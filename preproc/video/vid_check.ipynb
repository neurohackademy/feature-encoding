{
 "cells": [
  {
   "cell_type": "markdown",
   "metadata": {},
   "source": [
    "# purpose of this jupyter notebook:\n",
    "check video prpoerties\n",
    "- framerate\n",
    "- height\n",
    "- width\n",
    "- framecount\n",
    "\n",
    "We want to check if videos have different frame counts\n",
    "This will have implications for selecting slowfast parameters \n",
    "We may have to trim videos in order to maintain identical framecounts"
   ]
  },
  {
   "cell_type": "code",
   "execution_count": 5,
   "metadata": {},
   "outputs": [],
   "source": [
    "import vid_utils\n",
    "import os"
   ]
  },
  {
   "cell_type": "code",
   "execution_count": 12,
   "metadata": {},
   "outputs": [],
   "source": [
    "moment_dir = os.path.join('/mnt', 'c', 'Users','Spacetop','Documents','Moments_in_Time_Raw_v2','Moments_in_Time_Raw' )\n",
    "fname1 = os.path.join(moment_dir, 'training', 'adult+male+speaking', '_b-T9lUVCLk_82.mp4')\n",
    "fname2 = os.path.join(moment_dir, 'training', 'ascending', '0-4-4-5-9-6-5-5-21404459655_23.mp4')\n",
    "# print(fname1)\n"
   ]
  },
  {
   "cell_type": "code",
   "execution_count": 14,
   "metadata": {},
   "outputs": [
    {
     "data": {
      "text/plain": [
       "(25, 720, 1280, 75)"
      ]
     },
     "execution_count": 14,
     "metadata": {},
     "output_type": "execute_result"
    }
   ],
   "source": [
    "vid_utils.describe_video(fname1)\n",
    "#print(f\"Framerate: {frameRate}\\nHeightxWidth: {frameHeight}x{frameWidth}\\nN_frames: {frameCount}\")"
   ]
  },
  {
   "cell_type": "code",
   "execution_count": 15,
   "metadata": {},
   "outputs": [
    {
     "data": {
      "text/plain": [
       "(29, 256, 456, 90)"
      ]
     },
     "execution_count": 15,
     "metadata": {},
     "output_type": "execute_result"
    }
   ],
   "source": [
    "vid_utils.describe_video(fname2)"
   ]
  }
 ],
 "metadata": {
  "interpreter": {
   "hash": "4c0f10d51539bd2214be954c1b823f211bbd465b7623866115fb55c6197e049a"
  },
  "kernelspec": {
   "display_name": "Python 3.9.7 64-bit ('ffmpeg_env': conda)",
   "name": "python3"
  },
  "language_info": {
   "codemirror_mode": {
    "name": "ipython",
    "version": 3
   },
   "file_extension": ".py",
   "mimetype": "text/x-python",
   "name": "python",
   "nbconvert_exporter": "python",
   "pygments_lexer": "ipython3",
   "version": "3.9.7"
  },
  "orig_nbformat": 4
 },
 "nbformat": 4,
 "nbformat_minor": 2
}
