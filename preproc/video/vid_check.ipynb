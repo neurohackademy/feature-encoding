{
 "cells": [
  {
   "cell_type": "markdown",
   "source": [
    "# purpose of this jupyter notebook:\n",
    "check video prpoerties\n",
    "- framerate\n",
    "- height\n",
    "- width\n",
    "- framecount\n",
    "\n",
    "We want to check if videos have different frame counts\n",
    "This will have implications for selecting slowfast parameters \n",
    "We may have to trim videos in order to maintain identical framecounts"
   ],
   "metadata": {}
  },
  {
   "cell_type": "code",
   "execution_count": 5,
   "source": [
    "import vid_utils\n",
    "import os"
   ],
   "outputs": [],
   "metadata": {}
  },
  {
   "cell_type": "code",
   "execution_count": 12,
   "source": [
    "moment_dir = os.path.join('/mnt', 'c', 'Users','Spacetop','Documents','Moments_in_Time_Raw_v2','Moments_in_Time_Raw' )\n",
    "fname1 = os.path.join(moment_dir, 'training', 'adult+male+speaking', '_b-T9lUVCLk_82.mp4')\n",
    "fname2 = os.path.join(moment_dir, 'training', 'ascending', '0-4-4-5-9-6-5-5-21404459655_23.mp4')\n",
    "# print(fname1)\n"
   ],
   "outputs": [],
   "metadata": {}
  },
  {
   "cell_type": "code",
   "execution_count": 14,
   "source": [
    "vid_utils.describe_video(fname1)\n",
    "#print(f\"Framerate: {frameRate}\\nHeightxWidth: {frameHeight}x{frameWidth}\\nN_frames: {frameCount}\")"
   ],
   "outputs": [
    {
     "output_type": "execute_result",
     "data": {
      "text/plain": [
       "(25, 720, 1280, 75)"
      ]
     },
     "metadata": {},
     "execution_count": 14
    }
   ],
   "metadata": {}
  },
  {
   "cell_type": "code",
   "execution_count": 15,
   "source": [
    "vid_utils.describe_video(fname2)"
   ],
   "outputs": [
    {
     "output_type": "execute_result",
     "data": {
      "text/plain": [
       "(29, 256, 456, 90)"
      ]
     },
     "metadata": {},
     "execution_count": 15
    }
   ],
   "metadata": {}
  }
 ],
 "metadata": {
  "orig_nbformat": 4,
  "language_info": {
   "name": "python",
   "version": "3.9.7",
   "mimetype": "text/x-python",
   "codemirror_mode": {
    "name": "ipython",
    "version": 3
   },
   "pygments_lexer": "ipython3",
   "nbconvert_exporter": "python",
   "file_extension": ".py"
  },
  "kernelspec": {
   "name": "python3",
   "display_name": "Python 3.9.7 64-bit ('ffmpeg_env': conda)"
  },
  "interpreter": {
   "hash": "02aa31bacfa36f946c35ff573c11a7b1a1914d8116aa2bb978ea40c3cd352a82"
  }
 },
 "nbformat": 4,
 "nbformat_minor": 2
}