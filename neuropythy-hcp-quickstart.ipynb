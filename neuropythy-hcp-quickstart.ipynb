{
 "cells": [
  {
   "cell_type": "code",
   "execution_count": 1,
   "metadata": {},
   "outputs": [],
   "source": [
    "import numpy as np\n",
    "import matplotlib as mpl\n",
    "import matplotlib.pyplot as plt\n",
    "\n",
    "import neuropythy as ny"
   ]
  },
  {
   "cell_type": "code",
   "execution_count": 2,
   "metadata": {},
   "outputs": [],
   "source": [
    "# You need to configure neuropythy so that it knows what your\n",
    "# HCP AWS S3 access key and secret are:\n",
    "ny.config['hcp_credentials'] = ('<key>', '<secret>')\n",
    "ny.config['hcp_auto_download'] = True\n",
    "# Auto-download will work without these commands, but they let\n",
    "# neuropythy find the cached files next time you start it up\n",
    "# (without this, everything you download will be lost when\n",
    "# your python process quits).\n",
    "ny.config['hcp_auto_path'] = '/home/jovyan/hcp_cache/'\n",
    "\n",
    "# There are also instructions in the neuropythy README.md file\n",
    "# (see https://github.com/noahbenson/neuropythy/) on how to\n",
    "# set this up in the ~/.npythyrc configuration file. Additional\n",
    "# info is also in the neuropythy wiki under the configuration\n",
    "# heading."
   ]
  },
  {
   "cell_type": "code",
   "execution_count": 3,
   "metadata": {},
   "outputs": [],
   "source": [
    "sub = ny.hcp_subject(111312)"
   ]
  },
  {
   "cell_type": "code",
   "execution_count": 4,
   "metadata": {},
   "outputs": [
    {
     "data": {
      "text/plain": [
       "Subject(<111312>, <'s3://hcp-openaccess/HCP_1200/111312'>)"
      ]
     },
     "execution_count": 4,
     "metadata": {},
     "output_type": "execute_result"
    }
   ],
   "source": [
    "sub"
   ]
  },
  {
   "cell_type": "code",
   "execution_count": 5,
   "metadata": {},
   "outputs": [
    {
     "data": {
      "text/plain": [
       "Cortex(<LH>, <245778 faces>, <122891 vertices>)"
      ]
     },
     "execution_count": 5,
     "metadata": {},
     "output_type": "execute_result"
    }
   ],
   "source": [
    "sub.lh"
   ]
  },
  {
   "cell_type": "code",
   "execution_count": 7,
   "metadata": {},
   "outputs": [
    {
     "data": {
      "application/vnd.jupyter.widget-view+json": {
       "model_id": "6898bfedf7ff4937ba07a09dc70fc20f",
       "version_major": 2,
       "version_minor": 0
      },
      "text/plain": [
       "Figure(camera=PerspectiveCamera(fov=0.644570721372708, position=(0.0, -100.0, 0.0), projectionMatrix=(1.0, 0.0…"
      ]
     },
     "metadata": {},
     "output_type": "display_data"
    }
   ],
   "source": [
    "# The 3D cells can't be embedded in notebook files, so this will probably\n",
    "# look like an error when you first open the notebook.\n",
    "ny.cortex_plot(sub.lh, surface='inflated', color='thickness', cmap='hot')"
   ]
  }
 ],
 "metadata": {
  "kernelspec": {
   "display_name": "Python 3",
   "language": "python",
   "name": "python3"
  },
  "language_info": {
   "codemirror_mode": {
    "name": "ipython",
    "version": 3
   },
   "file_extension": ".py",
   "mimetype": "text/x-python",
   "name": "python",
   "nbconvert_exporter": "python",
   "pygments_lexer": "ipython3",
   "version": "3.8.10"
  }
 },
 "nbformat": 4,
 "nbformat_minor": 4
}
